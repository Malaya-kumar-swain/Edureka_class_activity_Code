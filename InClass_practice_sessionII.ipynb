{
 "cells": [
  {
   "cell_type": "code",
   "execution_count": null,
   "id": "6a971dcd",
   "metadata": {},
   "outputs": [],
   "source": [
    "# Inclass practice session II"
   ]
  },
  {
   "cell_type": "code",
   "execution_count": 20,
   "id": "6216b014",
   "metadata": {},
   "outputs": [
    {
     "name": "stdout",
     "output_type": "stream",
     "text": [
      "please enter your number:23\n",
      "This is an odd number\n"
     ]
    }
   ],
   "source": [
    "#Q1:WAP to check if the entered number is odd or even\n",
    "x=int(input(\"please enter your number:\"))\n",
    "if x%2==0 :\n",
    "    print(\"This is an even number\")\n",
    "else:\n",
    "    print(\"This is an odd number\")\n"
   ]
  },
  {
   "cell_type": "code",
   "execution_count": 35,
   "id": "5ac1441d",
   "metadata": {},
   "outputs": [
    {
     "name": "stdout",
     "output_type": "stream",
     "text": [
      "enter your first number:12\n",
      "enter your second number:14\n",
      "Greater Number is: 14\n"
     ]
    }
   ],
   "source": [
    "#Q2: WAP using shorthand if else to check which number is greater\n",
    "Num1=int(input(\"enter your first number:\"))\n",
    "Num2=int(input(\"enter your second number:\"))\n",
    "print(\"Greater number is:\", Num1) if Num1>Num2 else print(\"Greater Number is:\", Num2)"
   ]
  },
  {
   "cell_type": "code",
   "execution_count": 44,
   "id": "8f8c61e6",
   "metadata": {},
   "outputs": [
    {
     "name": "stdout",
     "output_type": "stream",
     "text": [
      "Enter your marks:89\n",
      "Your grade is A\n"
     ]
    }
   ],
   "source": [
    "#Q4: A school has the following grading system\n",
    "#Below 25 - F\n",
    "#25 to 45 - E\n",
    "#45 to 50 - D\n",
    "#50 to 60 - C\n",
    "#60 to 80 - B\n",
    "#Above 80 - A\n",
    "#WAP Ask the user to enter the mark and display the corresponding Grade\n",
    "\n",
    "X = int(input(\"Enter your marks:\"))\n",
    "if X < 25:\n",
    "    print(\"Your grade is F\")\n",
    "elif X in range (25,45):\n",
    "    print(\"Your grade is E\")\n",
    "elif X in range (45,50):\n",
    "    print(\"Your grade is D\")\n",
    "elif X in range (50,60):\n",
    "    print(\"Your grade is C\")\n",
    "elif X in range (60,80):\n",
    "    print(\"Your grade is B\")\n",
    "else:\n",
    "    print(\"Your grade is A\")\n",
    "    "
   ]
  },
  {
   "cell_type": "code",
   "execution_count": null,
   "id": "85b03f5a",
   "metadata": {},
   "outputs": [],
   "source": []
  }
 ],
 "metadata": {
  "kernelspec": {
   "display_name": "Python 3",
   "language": "python",
   "name": "python3"
  },
  "language_info": {
   "codemirror_mode": {
    "name": "ipython",
    "version": 3
   },
   "file_extension": ".py",
   "mimetype": "text/x-python",
   "name": "python",
   "nbconvert_exporter": "python",
   "pygments_lexer": "ipython3",
   "version": "3.8.8"
  }
 },
 "nbformat": 4,
 "nbformat_minor": 5
}
