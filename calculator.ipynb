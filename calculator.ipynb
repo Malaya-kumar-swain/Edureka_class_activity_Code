{
 "cells": [
  {
   "cell_type": "code",
   "execution_count": 3,
   "id": "aa3211cf",
   "metadata": {},
   "outputs": [
    {
     "name": "stdout",
     "output_type": "stream",
     "text": [
      "select operations.\n",
      "1.add\n",
      "2.subtraction\n",
      "3.multiplication\n",
      "4.division\n",
      "please enter your choice (1/2/3/4) for the mathematical operation:1\n",
      "please provide your number 1:10\n",
      "please provide your number 2:20\n",
      "10.0 + 20.0 = 30.0\n"
     ]
    },
    {
     "ename": "NameError",
     "evalue": "name 'lower' is not defined",
     "output_type": "error",
     "traceback": [
      "\u001b[0;31m---------------------------------------------------------------------------\u001b[0m",
      "\u001b[0;31mNameError\u001b[0m                                 Traceback (most recent call last)",
      "\u001b[0;32m<ipython-input-3-bad1e8c85a68>\u001b[0m in \u001b[0;36m<module>\u001b[0;34m\u001b[0m\n\u001b[1;32m     50\u001b[0m \u001b[0;31m#break the while loop if answer is no\u001b[0m\u001b[0;34m\u001b[0m\u001b[0;34m\u001b[0m\u001b[0;34m\u001b[0m\u001b[0m\n\u001b[1;32m     51\u001b[0m \u001b[0;34m\u001b[0m\u001b[0m\n\u001b[0;32m---> 52\u001b[0;31m         \u001b[0mnext_calculation\u001b[0m \u001b[0;34m=\u001b[0m \u001b[0mlower\u001b[0m\u001b[0;34m(\u001b[0m\u001b[0minput\u001b[0m\u001b[0;34m(\u001b[0m\u001b[0;34m\"please let us know if you need another calculation (yes/no):\"\u001b[0m\u001b[0;34m)\u001b[0m\u001b[0;34m)\u001b[0m\u001b[0;34m\u001b[0m\u001b[0;34m\u001b[0m\u001b[0m\n\u001b[0m\u001b[1;32m     53\u001b[0m         \u001b[0;32mif\u001b[0m \u001b[0mnext_calculation\u001b[0m \u001b[0;34m==\u001b[0m \u001b[0;34m'no'\u001b[0m\u001b[0;34m:\u001b[0m\u001b[0;34m\u001b[0m\u001b[0;34m\u001b[0m\u001b[0m\n\u001b[1;32m     54\u001b[0m             \u001b[0;32mbreak\u001b[0m\u001b[0;34m\u001b[0m\u001b[0;34m\u001b[0m\u001b[0m\n",
      "\u001b[0;31mNameError\u001b[0m: name 'lower' is not defined"
     ]
    }
   ],
   "source": [
    "#function for Addition\n",
    "\n",
    "def add (x, y):\n",
    "    return (x + y)\n",
    "\n",
    "#function for Subtraction\n",
    "\n",
    "def subtraction (x, y):\n",
    "    return (x - y)\n",
    "\n",
    "#function for multiplication\n",
    "\n",
    "def multiplication (x, y):\n",
    "    return (x * y)\n",
    "\n",
    "#function for division\n",
    "\n",
    "def division (x, y):\n",
    "    return (x / y)\n",
    "\n",
    "print(\"select operations.\")\n",
    "print(\"1.add\")\n",
    "print(\"2.subtraction\")\n",
    "print(\"3.multiplication\")\n",
    "print(\"4.division\")\n",
    "\n",
    "while True:   \n",
    "#take input from user for the mathmetical operation\n",
    "    choice = input(\"please enter your choice (1/2/3/4) for the mathematical operation:\")\n",
    "\n",
    "#check if the user has provided the right choice\n",
    "\n",
    "    if choice in ('1','2','3','4'):\n",
    "\n",
    "#Take the numbers from the user\n",
    "        \n",
    "        num1 = float(input(\"please provide your number 1:\"))\n",
    "        num2 = float(input(\"please provide your number 2:\"))\n",
    "        \n",
    "        if choice == '1':\n",
    "            print(num1, \"+\", num2, \"=\", add(num1, num2))\n",
    "        elif choice == '2':\n",
    "            print(num1, \"-\", num2, \"=\", subtraction(num1, num2))\n",
    "        elif choice == '3':\n",
    "            print(num1, \"*\", num2, \"=\", multiplication(num1, num2))\n",
    "        elif choice == '4':\n",
    "            print(num1, \"/\", num2, \"=\", division(num1, num2))\n",
    "        \n",
    "#check if user wants another calculation\n",
    "#break the while loop if answer is no\n",
    "\n",
    "        next_calculation = input(\"please let us know if you need another calculation (yes/no):\")\n",
    "        if next_calculation == 'no':\n",
    "            break\n",
    "    else:\n",
    "        print(\"invalid input\")"
   ]
  },
  {
   "cell_type": "code",
   "execution_count": null,
   "id": "ae494018",
   "metadata": {},
   "outputs": [],
   "source": []
  }
 ],
 "metadata": {
  "kernelspec": {
   "display_name": "Python 3",
   "language": "python",
   "name": "python3"
  },
  "language_info": {
   "codemirror_mode": {
    "name": "ipython",
    "version": 3
   },
   "file_extension": ".py",
   "mimetype": "text/x-python",
   "name": "python",
   "nbconvert_exporter": "python",
   "pygments_lexer": "ipython3",
   "version": "3.8.8"
  }
 },
 "nbformat": 4,
 "nbformat_minor": 5
}
