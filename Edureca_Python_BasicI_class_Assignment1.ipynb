{
 "cells": [
  {
   "cell_type": "code",
   "execution_count": null,
   "id": "8596d8d0",
   "metadata": {},
   "outputs": [],
   "source": [
    "#IN Class Practice session 1"
   ]
  },
  {
   "cell_type": "code",
   "execution_count": 8,
   "id": "356b5a29",
   "metadata": {},
   "outputs": [
    {
     "name": "stdout",
     "output_type": "stream",
     "text": [
      "please give your number for multiplication table:10\n",
      "10 * 1 = 10\n",
      "10 * 2 = 20\n",
      "10 * 3 = 30\n",
      "10 * 4 = 40\n",
      "10 * 5 = 50\n",
      "10 * 6 = 60\n",
      "10 * 7 = 70\n",
      "10 * 8 = 80\n",
      "10 * 9 = 90\n",
      "10 * 10 = 100\n"
     ]
    }
   ],
   "source": [
    "#Q1: WAP to print the multiplication table of 10\n",
    "\n",
    "x = int(input(\"please give your number for multiplication table:\"))\n",
    "for i in range(1,11):\n",
    "    print(x, '*', i, '=', (x*i))\n",
    "    i=i+1\n"
   ]
  },
  {
   "cell_type": "code",
   "execution_count": 14,
   "id": "89283a6e",
   "metadata": {},
   "outputs": [
    {
     "name": "stdout",
     "output_type": "stream",
     "text": [
      "please give your first input:10\n",
      "you have provided first variable as: 10\n",
      "please give your second input:20\n",
      "you have provided second variable as: 20\n",
      "var1 is equals to: 20\n",
      "var2 is equals to: 20\n"
     ]
    }
   ],
   "source": [
    "#Q2: WAP to swap two variables of users choice\n",
    "\n",
    "\n",
    "var1 = input(\"please give your first input:\")\n",
    "print(\"you have provided first variable as:\", var1)\n",
    "var2 = input(\"please give your second input:\")\n",
    "print(\"you have provided second variable as:\", var2)\n",
    "temp = var2\n",
    "print(\"var1 is equals to:\", temp)\n",
    "print(\"var2 is equals to:\", var2)\n"
   ]
  },
  {
   "cell_type": "code",
   "execution_count": 15,
   "id": "a9189cc7",
   "metadata": {},
   "outputs": [
    {
     "name": "stdout",
     "output_type": "stream",
     "text": [
      "please give your first input:10\n",
      "you have provided first variable as: 10\n",
      "please give your second input:20\n",
      "you have provided second variable as: 20\n",
      "first variable is: 20\n",
      "second variable is: 10\n"
     ]
    }
   ],
   "source": [
    "#Q3: WAP to swap two variables without using third variable\n",
    "\n",
    "var1 = int(input(\"please give your first input:\"))\n",
    "print(\"you have provided first variable as:\", var1)\n",
    "var2 = int(input(\"please give your second input:\"))\n",
    "print(\"you have provided second variable as:\", var2)\n",
    "var1 = var1+var2\n",
    "var2 = var1-var2\n",
    "var1 = var1-var2\n",
    "print(\"first variable is:\",var1)\n",
    "print(\"second variable is:\",var2)\n"
   ]
  },
  {
   "cell_type": "code",
   "execution_count": null,
   "id": "58993f77",
   "metadata": {},
   "outputs": [],
   "source": []
  }
 ],
 "metadata": {
  "kernelspec": {
   "display_name": "Python 3",
   "language": "python",
   "name": "python3"
  },
  "language_info": {
   "codemirror_mode": {
    "name": "ipython",
    "version": 3
   },
   "file_extension": ".py",
   "mimetype": "text/x-python",
   "name": "python",
   "nbconvert_exporter": "python",
   "pygments_lexer": "ipython3",
   "version": "3.8.8"
  }
 },
 "nbformat": 4,
 "nbformat_minor": 5
}
